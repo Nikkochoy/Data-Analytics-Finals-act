{
 "cells": [
  {
   "cell_type": "markdown",
   "metadata": {},
   "source": [
    "Create regression models for the given data set.\n",
    "\n",
    "● Separate the columns to be used for the SLR model and the MLR model.\n",
    "\n",
    "● Set aside 10% of the dataset (will serve as unseen data)."
   ]
  },
  {
   "cell_type": "code",
   "execution_count": null,
   "metadata": {},
   "outputs": [],
   "source": [
    "import pandas as pd\n",
    "import numpy as np\n",
    "import matplotlib.pyplot as plt\n",
    "import seaborn as sns\n",
    "from sklearn.model_selection import train_test_split\n",
    "from sklearn.linear_model import LinearRegression\n",
    "from sklearn.metrics import mean_squared_error, r2_score\n",
    "import statsmodels.api as sm\n",
    "\n",
    "df = pd.read_csv('housePriceData.csv')\n",
    "\n",
    "#Simple Linear Regression\n",
    "X_slr = df[['damages']]\n",
    "y_slr = df['discount']\n",
    "X_slr_train, X_slr_test, y_slr_train, y_slr_test = train_test_split(\n",
    "    X_slr, y_slr, test_size=0.1, random_state=42)\n",
    "\n",
    "#Multiple Linear Regression\n",
    "mlr_features = ['size', 'bedrooms', 'bathrooms', 'extraRooms', 'garage',\n",
    "                'garden', 'inSubdivision', 'inCity', 'solarPowered']\n",
    "X_mlr = df[mlr_features]\n",
    "y_mlr = df['price']\n",
    "X_mlr_train, X_mlr_test, y_mlr_train, y_mlr_test = train_test_split(\n",
    "    X_mlr, y_mlr, test_size=0.1, random_state=42)"
   ]
  },
  {
   "cell_type": "markdown",
   "metadata": {},
   "source": [
    "Simple Linear Regression Model (SLR)\n",
    "Predict how much discount should be given considering any\n",
    "damage in the house. The dataset has a column for number of damages and another\n",
    "column for the discount that can be given (around $1 for every damage discovered)."
   ]
  },
  {
   "cell_type": "code",
   "execution_count": null,
   "metadata": {},
   "outputs": [],
   "source": []
  },
  {
   "cell_type": "markdown",
   "metadata": {},
   "source": [
    "A. Display the descriptive statistics of the discount amounts.\n",
    "Question: Describe the amount based on the different descriptive statistics.\n"
   ]
  },
  {
   "cell_type": "code",
   "execution_count": null,
   "metadata": {},
   "outputs": [],
   "source": []
  },
  {
   "cell_type": "markdown",
   "metadata": {},
   "source": [
    "B. Create a scatter plot using the “damages” column as the independent variable and the “discount” column as the dependent variable.\n",
    "Question: Describe the relationship between these variables.\n"
   ]
  },
  {
   "cell_type": "code",
   "execution_count": null,
   "metadata": {},
   "outputs": [],
   "source": []
  },
  {
   "cell_type": "markdown",
   "metadata": {},
   "source": [
    "C. Determine the correlation between the “damages” and “discount” columns.\n",
    "Question: Based on the computed correlation coefficient and visualization, give an interpretation.\n"
   ]
  },
  {
   "cell_type": "code",
   "execution_count": null,
   "metadata": {},
   "outputs": [],
   "source": []
  },
  {
   "cell_type": "markdown",
   "metadata": {},
   "source": [
    "D. Create a simple linear regression model using the “damages” column as the\n",
    "independent variable and the “discount” column as the dependent variable.\n",
    "Question: What is the regression model interpret the regression model.\n"
   ]
  },
  {
   "cell_type": "code",
   "execution_count": null,
   "metadata": {},
   "outputs": [],
   "source": []
  },
  {
   "cell_type": "markdown",
   "metadata": {},
   "source": [
    "E. Evaluate the developed regression model based on different performance metrics and discuss the OLS regression results.\n",
    "Question: Discuss the performance of the model.\n"
   ]
  },
  {
   "cell_type": "code",
   "execution_count": null,
   "metadata": {},
   "outputs": [],
   "source": []
  },
  {
   "cell_type": "markdown",
   "metadata": {},
   "source": [
    "F. Predict the discount amounts on the remaining 10% unseen data.\n",
    "Question: Document and describe the results of predictions.\n"
   ]
  },
  {
   "cell_type": "code",
   "execution_count": null,
   "metadata": {},
   "outputs": [],
   "source": []
  },
  {
   "cell_type": "markdown",
   "metadata": {},
   "source": []
  }
 ],
 "metadata": {
  "kernelspec": {
   "display_name": "Python 3.9.12 ('base')",
   "language": "python",
   "name": "python3"
  },
  "language_info": {
   "name": "python",
   "version": "3.9.12"
  },
  "orig_nbformat": 4,
  "vscode": {
   "interpreter": {
    "hash": "ad2bdc8ecc057115af97d19610ffacc2b4e99fae6737bb82f5d7fb13d2f2c186"
   }
  }
 },
 "nbformat": 4,
 "nbformat_minor": 2
}
